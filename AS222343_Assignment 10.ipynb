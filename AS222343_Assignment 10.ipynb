{
 "cells": [
  {
   "cell_type": "code",
   "execution_count": 152,
   "id": "65edfc6f",
   "metadata": {},
   "outputs": [],
   "source": [
    "import pandas as pd\n",
    "import time\n",
    "import matplotlib.pyplot as plt\n",
    "\n",
    "#df_test = pd.read_csv('Sample_labaled_data.csv')\n",
    "#tempDf_test = df_test\n",
    "\n",
    "df = pd.read_csv('cuss_word_samples.csv')\n",
    "tempDf = df"
   ]
  },
  {
   "cell_type": "code",
   "execution_count": 153,
   "id": "5cae0f60",
   "metadata": {},
   "outputs": [],
   "source": [
    "#print(tempDf_test)"
   ]
  },
  {
   "cell_type": "code",
   "execution_count": 154,
   "id": "f24387a8",
   "metadata": {},
   "outputs": [
    {
     "name": "stdout",
     "output_type": "stream",
     "text": [
      "Requirement already satisfied: google-api-python-client in /Users/alexander/opt/anaconda3/lib/python3.9/site-packages (2.83.0)\n",
      "Requirement already satisfied: google-auth-httplib2 in /Users/alexander/opt/anaconda3/lib/python3.9/site-packages (0.1.0)\n",
      "Requirement already satisfied: google-auth-oauthlib in /Users/alexander/opt/anaconda3/lib/python3.9/site-packages (1.0.0)\n",
      "Requirement already satisfied: google-api-core!=2.0.*,!=2.1.*,!=2.2.*,!=2.3.0,<3.0.0dev,>=1.31.5 in /Users/alexander/opt/anaconda3/lib/python3.9/site-packages (from google-api-python-client) (2.11.0)\n",
      "Requirement already satisfied: httplib2<1dev,>=0.15.0 in /Users/alexander/opt/anaconda3/lib/python3.9/site-packages (from google-api-python-client) (0.22.0)\n",
      "Requirement already satisfied: google-auth<3.0.0dev,>=1.19.0 in /Users/alexander/opt/anaconda3/lib/python3.9/site-packages (from google-api-python-client) (2.16.3)\n",
      "Requirement already satisfied: uritemplate<5,>=3.0.1 in /Users/alexander/opt/anaconda3/lib/python3.9/site-packages (from google-api-python-client) (4.1.1)\n",
      "Requirement already satisfied: six in /Users/alexander/opt/anaconda3/lib/python3.9/site-packages (from google-auth-httplib2) (1.16.0)\n",
      "Requirement already satisfied: requests-oauthlib>=0.7.0 in /Users/alexander/opt/anaconda3/lib/python3.9/site-packages (from google-auth-oauthlib) (1.3.1)\n",
      "Requirement already satisfied: googleapis-common-protos<2.0dev,>=1.56.2 in /Users/alexander/opt/anaconda3/lib/python3.9/site-packages (from google-api-core!=2.0.*,!=2.1.*,!=2.2.*,!=2.3.0,<3.0.0dev,>=1.31.5->google-api-python-client) (1.59.0)\n",
      "Requirement already satisfied: protobuf!=3.20.0,!=3.20.1,!=4.21.0,!=4.21.1,!=4.21.2,!=4.21.3,!=4.21.4,!=4.21.5,<5.0.0dev,>=3.19.5 in /Users/alexander/opt/anaconda3/lib/python3.9/site-packages (from google-api-core!=2.0.*,!=2.1.*,!=2.2.*,!=2.3.0,<3.0.0dev,>=1.31.5->google-api-python-client) (4.22.1)\n",
      "Requirement already satisfied: requests<3.0.0dev,>=2.18.0 in /Users/alexander/opt/anaconda3/lib/python3.9/site-packages (from google-api-core!=2.0.*,!=2.1.*,!=2.2.*,!=2.3.0,<3.0.0dev,>=1.31.5->google-api-python-client) (2.28.1)\n",
      "Requirement already satisfied: pyasn1-modules>=0.2.1 in /Users/alexander/opt/anaconda3/lib/python3.9/site-packages (from google-auth<3.0.0dev,>=1.19.0->google-api-python-client) (0.2.8)\n",
      "Requirement already satisfied: cachetools<6.0,>=2.0.0 in /Users/alexander/opt/anaconda3/lib/python3.9/site-packages (from google-auth<3.0.0dev,>=1.19.0->google-api-python-client) (5.3.0)\n",
      "Requirement already satisfied: rsa<5,>=3.1.4 in /Users/alexander/opt/anaconda3/lib/python3.9/site-packages (from google-auth<3.0.0dev,>=1.19.0->google-api-python-client) (4.9)\n",
      "Requirement already satisfied: pyparsing!=3.0.0,!=3.0.1,!=3.0.2,!=3.0.3,<4,>=2.4.2 in /Users/alexander/opt/anaconda3/lib/python3.9/site-packages (from httplib2<1dev,>=0.15.0->google-api-python-client) (3.0.9)\n",
      "Requirement already satisfied: oauthlib>=3.0.0 in /Users/alexander/opt/anaconda3/lib/python3.9/site-packages (from requests-oauthlib>=0.7.0->google-auth-oauthlib) (3.2.2)\n",
      "Requirement already satisfied: pyasn1<0.5.0,>=0.4.6 in /Users/alexander/opt/anaconda3/lib/python3.9/site-packages (from pyasn1-modules>=0.2.1->google-auth<3.0.0dev,>=1.19.0->google-api-python-client) (0.4.8)\n",
      "Requirement already satisfied: urllib3<1.27,>=1.21.1 in /Users/alexander/opt/anaconda3/lib/python3.9/site-packages (from requests<3.0.0dev,>=2.18.0->google-api-core!=2.0.*,!=2.1.*,!=2.2.*,!=2.3.0,<3.0.0dev,>=1.31.5->google-api-python-client) (1.26.11)\n",
      "Requirement already satisfied: charset-normalizer<3,>=2 in /Users/alexander/opt/anaconda3/lib/python3.9/site-packages (from requests<3.0.0dev,>=2.18.0->google-api-core!=2.0.*,!=2.1.*,!=2.2.*,!=2.3.0,<3.0.0dev,>=1.31.5->google-api-python-client) (2.0.4)\n",
      "Requirement already satisfied: idna<4,>=2.5 in /Users/alexander/opt/anaconda3/lib/python3.9/site-packages (from requests<3.0.0dev,>=2.18.0->google-api-core!=2.0.*,!=2.1.*,!=2.2.*,!=2.3.0,<3.0.0dev,>=1.31.5->google-api-python-client) (3.3)\n",
      "Requirement already satisfied: certifi>=2017.4.17 in /Users/alexander/opt/anaconda3/lib/python3.9/site-packages (from requests<3.0.0dev,>=2.18.0->google-api-core!=2.0.*,!=2.1.*,!=2.2.*,!=2.3.0,<3.0.0dev,>=1.31.5->google-api-python-client) (2022.9.24)\n",
      "Note: you may need to restart the kernel to use updated packages.\n"
     ]
    }
   ],
   "source": [
    "pip install --upgrade google-api-python-client google-auth-httplib2 google-auth-oauthlib"
   ]
  },
  {
   "cell_type": "code",
   "execution_count": 155,
   "id": "92dbf57b",
   "metadata": {},
   "outputs": [],
   "source": [
    "from googleapiclient.discovery import build\n",
    "\n",
    "import json\n",
    "\n",
    "\n",
    "def get_toxicity_score(comment):\n",
    "    \n",
    "    API_KEY = 'my-api-key'\n",
    "    \n",
    "    client = build(\n",
    "    \"commentanalyzer\"\n",
    "    \"v1alpha1\",\n",
    "    developerKey=API_KEY,\n",
    "    discoveryServiceUrl=\"https://commentanalyzer.googleapis.com/$discovery/rest?version=v1alpha1\",\n",
    "    static_discovery=False,\n",
    "    version=2.0,\n",
    "    )\n",
    "    \n",
    "    analyze_request = {\n",
    "    'comment': {'text' : comment }, \n",
    "    'requestedAttributes': {'TOXICITY': {}}\n",
    "    }\n",
    "    \n",
    "    response = client.comments().analyze(body=analyze_request).execute()\n",
    "    toxicity_score = response[\"attributeScores\"][\"TOXICITY\"][\"summaryScore\"][\"value\"]\n",
    "    \n",
    "    return toxicity_score"
   ]
  },
  {
   "cell_type": "code",
   "execution_count": 156,
   "id": "e3810445",
   "metadata": {},
   "outputs": [],
   "source": [
    "#pip install langdetect"
   ]
  },
  {
   "cell_type": "code",
   "execution_count": 157,
   "id": "0768746f",
   "metadata": {},
   "outputs": [],
   "source": [
    "#from langdetect import detect, LangDetectException\n",
    "\n",
    "#def is_english(text):\n",
    "#    if isinstance(text, str):\n",
    "#        try:\n",
    "#            return detect(text) == 'en'\n",
    "#        except LangDetectException:\n",
    "#           pass\n",
    "#    return False\n",
    "\n",
    "#tempDf_test = tempDf_test[tempDf_test['comment_text'].apply(is_english)]\n"
   ]
  },
  {
   "cell_type": "code",
   "execution_count": 158,
   "id": "11084286",
   "metadata": {},
   "outputs": [],
   "source": [
    "#yes_toxic_df = tempDf_test.loc[tempDf_test['toxic'] == 'yes'].head(30)\n",
    "#no_toxic_df = tempDf_test.loc[tempDf_test['toxic'] == 'no'].head(30)\n",
    "# Print the new DataFrame\n",
    "#print(yes_toxic_df)\n",
    "#print(no_toxic_df)"
   ]
  },
  {
   "cell_type": "code",
   "execution_count": 159,
   "id": "804367c9",
   "metadata": {},
   "outputs": [],
   "source": [
    "#combined_df = pd.concat([yes_toxic_df, no_toxic_df])\n",
    "\n",
    "# Print the combined DataFrame\n",
    "#print(combined_df)"
   ]
  },
  {
   "cell_type": "code",
   "execution_count": 160,
   "id": "2ee31aed",
   "metadata": {
    "scrolled": true
   },
   "outputs": [],
   "source": [
    "#combined_df['scores'] = combined_df['comment_text'].apply(get_toxicity_score)\n",
    "#print(combined_df)"
   ]
  },
  {
   "cell_type": "code",
   "execution_count": 161,
   "id": "cccbca18",
   "metadata": {},
   "outputs": [],
   "source": [
    "# Calculate the mean, lower quartile, and upper quartile scores for rows with \"no\" in the \"toxic\" column\n",
    "#no_toxic_mean = combined_df.loc[combined_df[\"toxic\"] == \"no\", \"scores\"].mean()\n",
    "#no_toxic_lower_quartile = combined_df.loc[combined_df[\"toxic\"] == \"no\", \"scores\"].quantile(0.25)\n",
    "#no_toxic_upper_quartile = combined_df.loc[combined_df[\"toxic\"] == \"no\", \"scores\"].quantile(0.75)\n",
    "\n",
    "# Calculate the mean, lower quartile, and upper quartile scores for rows with \"yes\" in the \"toxic\" column\n",
    "#yes_toxic_mean = combined_df.loc[combined_df[\"toxic\"] == \"yes\", \"scores\"].mean()\n",
    "#yes_toxic_lower_quartile = combined_df.loc[combined_df[\"toxic\"] == \"yes\", \"scores\"].quantile(0.25)\n",
    "#yes_toxic_upper_quartile = combined_df.loc[combined_df[\"toxic\"] == \"yes\", \"scores\"].quantile(0.75)\n",
    "\n",
    "# Print the results\n",
    "#print(\"No toxic comments:\")\n",
    "#print(\" Mean score:\", no_toxic_mean)\n",
    "#print(\" Lower quartile:\", no_toxic_lower_quartile)\n",
    "#print(\" Upper quartile:\", no_toxic_upper_quartile)\n",
    "\n",
    "#print(\"\\nYes toxic comments:\")\n",
    "#print(\" Mean score:\", yes_toxic_mean)\n",
    "#print(\" Lower quartile:\", yes_toxic_lower_quartile)\n",
    "#print(\" Upper quartile:\", yes_toxic_upper_quartile)\n"
   ]
  },
  {
   "cell_type": "code",
   "execution_count": 162,
   "id": "feb0d686",
   "metadata": {},
   "outputs": [],
   "source": [
    "tempDf['score'] = tempDf['comment_text'].apply(get_toxicity_score)\n",
    "#print(tempDf)"
   ]
  },
  {
   "cell_type": "code",
   "execution_count": 163,
   "id": "8a7d0120",
   "metadata": {},
   "outputs": [],
   "source": [
    "import numpy as np\n",
    "\n",
    "# Define the conditions\n",
    "conditions = [\n",
    "    (tempDf['score'] <= 0.1978351225),\n",
    "    (tempDf['score'] >= 0.642857825),\n",
    "]\n",
    "\n",
    "# Define the values for each condition\n",
    "values = ['no', 'yes']\n",
    "\n",
    "# Apply the conditions and assign the result to a new column\n",
    "tempDf['toxic'] = np.select(conditions, values, default='unsure')\n"
   ]
  },
  {
   "cell_type": "code",
   "execution_count": 164,
   "id": "c896e26b",
   "metadata": {
    "scrolled": true
   },
   "outputs": [
    {
     "name": "stdout",
     "output_type": "stream",
     "text": [
      "          Cuss word                                       comment_text  \\\n",
      "0          Positive                                 You are so awesome   \n",
      "1          Positive                        That was an easy assignment   \n",
      "2          Positive               The person’s tennis serve is so cool   \n",
      "3          Positive                           This food tastes so good   \n",
      "4          Positive                                         I love you   \n",
      "5          Positive                         your moms food tastes good   \n",
      "6          Positive        I'll make sure I give you a good experience   \n",
      "7          Positive                                     That’s to cool   \n",
      "8          Positive                                       Your awesome   \n",
      "9          Positive                                               Wow!   \n",
      "10         Positive               wow i never thought of that. Thanks!   \n",
      "11         Positive                      you have a good looking butt    \n",
      "12         Positive                                        you're cute   \n",
      "13         Positive                                               Wow!   \n",
      "14         Positive                       The weather is amazing today   \n",
      "15  Positive + Cuss                         You are so fucking awesome   \n",
      "16  Positive + Cuss                 That was a fucking easy assignment   \n",
      "17  Positive + Cuss               The fucker’s tennis serve is so cool   \n",
      "18  Positive + Cuss                   This food tastes so fucking good   \n",
      "19  Positive + Cuss               The weather is fucking amazing today   \n",
      "20  Positive + Cuss                                 I fucking love you   \n",
      "21  Positive + Cuss                   your mom makes fucking good food   \n",
      "22  Positive + Cuss  I'll make sure you have a hella good fucking time   \n",
      "23  Positive + Cuss                             That’s to fucking cool   \n",
      "24  Positive + Cuss                               Your fucking awesome   \n",
      "25  Positive + Cuss                          Shut the fuck up! No way!   \n",
      "26  Positive + Cuss                Shit I never thought of it that way   \n",
      "27  Positive + Cuss                           damn you have a nice ass   \n",
      "28  Positive + Cuss                            damn you're hot as fuck   \n",
      "29  Positive + Cuss                                      Bitch no way!   \n",
      "30         Negative                          you're so not intelligent   \n",
      "31         Negative                                      you're so bad   \n",
      "32         Negative                                      please leave    \n",
      "33         Negative                            you're being difficult    \n",
      "34         Negative                             please don't say that    \n",
      "35         Negative                                   please stay away   \n",
      "36         Negative                                  be more confident   \n",
      "37         Negative                                              oh no   \n",
      "38         Negative                                   I don't like you   \n",
      "39         Negative                             what is wrong with you   \n",
      "40         Negative                                 you make bad food    \n",
      "41         Negative                         Your chest is so flat girl   \n",
      "42         Negative                                you're a bad person   \n",
      "43         Negative                            you're spewing nonsense   \n",
      "44         Negative                                   you're too short   \n",
      "45  Negative + Cuss                           you're a fucking dumbass   \n",
      "46  Negative + Cuss                             you're a piece of shit   \n",
      "47  Negative + Cuss                  go to hell you dumb piece of shit   \n",
      "48  Negative + Cuss                            you're being an asshole   \n",
      "49  Negative + Cuss                       don't fucking say that to me   \n",
      "50  Negative + Cuss                                           fuck off   \n",
      "51  Negative + Cuss                           stop acting like a pussy   \n",
      "52  Negative + Cuss                                               shit   \n",
      "53  Negative + Cuss              I hate you you fucking son of a bitch   \n",
      "54  Negative + Cuss                 bitch! what the fuck is your deal?   \n",
      "55  Negative + Cuss                         your food tastes like shit   \n",
      "56  Negative + Cuss                 Your chest is so fucking flat girl   \n",
      "57  Negative + Cuss                              you're a bitch ass ho   \n",
      "58  Negative + Cuss                                           bullshit   \n",
      "59  Negative + Cuss  holy shit, I've never seen someone so fucking ...   \n",
      "\n",
      "       score   toxic  \n",
      "0   0.034984      no  \n",
      "1   0.020843      no  \n",
      "2   0.030035      no  \n",
      "3   0.026146      no  \n",
      "4   0.025557      no  \n",
      "5   0.147767      no  \n",
      "6   0.066589      no  \n",
      "7   0.023082      no  \n",
      "8   0.034277      no  \n",
      "9   0.015205      no  \n",
      "10  0.011372      no  \n",
      "11  0.659969     yes  \n",
      "12  0.041173      no  \n",
      "13  0.015205      no  \n",
      "14  0.016839      no  \n",
      "15  0.553210  unsure  \n",
      "16  0.666722     yes  \n",
      "17  0.749544     yes  \n",
      "18  0.505032  unsure  \n",
      "19  0.535794  unsure  \n",
      "20  0.471199  unsure  \n",
      "21  0.776108     yes  \n",
      "22  0.751094     yes  \n",
      "23  0.572712  unsure  \n",
      "24  0.572712  unsure  \n",
      "25  0.924899     yes  \n",
      "26  0.730815     yes  \n",
      "27  0.846027     yes  \n",
      "28  0.853334     yes  \n",
      "29  0.846027     yes  \n",
      "30  0.597204  unsure  \n",
      "31  0.471199  unsure  \n",
      "32  0.095684      no  \n",
      "33  0.150481      no  \n",
      "34  0.024260      no  \n",
      "35  0.236678  unsure  \n",
      "36  0.019729      no  \n",
      "37  0.025203      no  \n",
      "38  0.338998  unsure  \n",
      "39  0.262931  unsure  \n",
      "40  0.320209  unsure  \n",
      "41  0.478864  unsure  \n",
      "42  0.478864  unsure  \n",
      "43  0.518691  unsure  \n",
      "44  0.375766  unsure  \n",
      "45  0.974994     yes  \n",
      "46  0.960691     yes  \n",
      "47  0.981763     yes  \n",
      "48  0.911035     yes  \n",
      "49  0.785681     yes  \n",
      "50  0.933832     yes  \n",
      "51  0.904514     yes  \n",
      "52  0.787120     yes  \n",
      "53  0.981763     yes  \n",
      "54  0.964267     yes  \n",
      "55  0.928801     yes  \n",
      "56  0.902923     yes  \n",
      "57  0.964267     yes  \n",
      "58  0.788558     yes  \n",
      "59  0.853334     yes  \n"
     ]
    }
   ],
   "source": [
    "print(tempDf)"
   ]
  },
  {
   "cell_type": "code",
   "execution_count": 165,
   "id": "a6d13c44",
   "metadata": {},
   "outputs": [
    {
     "data": {
      "image/png": "[encoded data removed]",
      "text/plain": [
       "<Figure size 640x480 with 1 Axes>"
      ]
     },
     "metadata": {},
     "output_type": "display_data"
    }
   ],
   "source": [
    "import matplotlib.pyplot as plt\n",
    "\n",
    "# Group the DataFrame by the 'Cuss word' column and count the values of the 'toxic' column for each group\n",
    "grouped = tempDf.groupby('Cuss word')['toxic'].value_counts().unstack()\n",
    "\n",
    "# Plot a bar graph for each group\n",
    "grouped.plot(kind='bar', stacked=True)\n",
    "\n",
    "# Add labels and a legend to the plot\n",
    "plt.title('Toxicity by Cuss Word Category')\n",
    "plt.xlabel('Cuss Word Category')\n",
    "plt.ylabel('Count')\n",
    "plt.legend(title='Toxicity', loc='upper right')\n",
    "\n",
    "# Show the plot\n",
    "plt.show()\n"
   ]
  }
 ],
 "metadata": {
  "kernelspec": {
   "display_name": "Python 3 (ipykernel)",
   "language": "python",
   "name": "python3"
  },
  "language_info": {
   "codemirror_mode": {
    "name": "ipython",
    "version": 3
   },
   "file_extension": ".py",
   "mimetype": "text/x-python",
   "name": "python",
   "nbconvert_exporter": "python",
   "pygments_lexer": "ipython3",
   "version": "3.9.13"
  }
 },
 "nbformat": 4,
 "nbformat_minor": 5
}
